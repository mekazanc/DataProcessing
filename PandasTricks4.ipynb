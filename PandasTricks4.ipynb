{
  "nbformat": 4,
  "nbformat_minor": 0,
  "metadata": {
    "colab": {
      "name": "PandasTricks4.ipynb",
      "provenance": [],
      "collapsed_sections": [],
      "authorship_tag": "ABX9TyPX3t5UeEl6Ulxf7ovEG5El",
      "include_colab_link": true
    },
    "kernelspec": {
      "name": "python3",
      "display_name": "Python 3"
    }
  },
  "cells": [
    {
      "cell_type": "markdown",
      "metadata": {
        "id": "view-in-github",
        "colab_type": "text"
      },
      "source": [
        "<a href=\"https://colab.research.google.com/github/mekazanc/DataProcessing/blob/main/PandasTricks4.ipynb\" target=\"_parent\"><img src=\"https://colab.research.google.com/assets/colab-badge.svg\" alt=\"Open In Colab\"/></a>"
      ]
    },
    {
      "cell_type": "markdown",
      "metadata": {
        "id": "tRoAFlClH1wN"
      },
      "source": [
        "## Data Manipulation with Pandas Series - IV"
      ]
    },
    {
      "cell_type": "markdown",
      "metadata": {
        "id": "4IJQFY3SHsks"
      },
      "source": [
        "#### In this tutorial, I added some basic pandas data manipulation steps of a tabular data. Note that I received some parts from the Coray Schafer's Youtube channel. You can look at it to gain more insights about pandas. "
      ]
    },
    {
      "cell_type": "markdown",
      "metadata": {
        "id": "C5lWOJn-ZHFw"
      },
      "source": [
        "Load data by wget command from the dropbox. Note that you can create a link for a file in the Dropbox to receive such a file."
      ]
    },
    {
      "cell_type": "code",
      "metadata": {
        "id": "_1_Q_gnn9zMA",
        "outputId": "0a292d03-e77f-4a3b-eecf-f13389cea0aa",
        "colab": {
          "base_uri": "https://localhost:8080/",
          "height": 373
        }
      },
      "source": [
        "!wget -O ETH_1h.csv https://www.dropbox.com/s/rfh6wmygr0fhxid/ETH_1h.csv?dl=0"
      ],
      "execution_count": 1,
      "outputs": [
        {
          "output_type": "stream",
          "text": [
            "--2020-10-22 11:08:33--  https://www.dropbox.com/s/rfh6wmygr0fhxid/ETH_1h.csv?dl=0\n",
            "Resolving www.dropbox.com (www.dropbox.com)... 162.125.82.1, 2620:100:6032:1::a27d:5201\n",
            "Connecting to www.dropbox.com (www.dropbox.com)|162.125.82.1|:443... connected.\n",
            "HTTP request sent, awaiting response... 301 Moved Permanently\n",
            "Location: /s/raw/rfh6wmygr0fhxid/ETH_1h.csv [following]\n",
            "--2020-10-22 11:08:33--  https://www.dropbox.com/s/raw/rfh6wmygr0fhxid/ETH_1h.csv\n",
            "Reusing existing connection to www.dropbox.com:443.\n",
            "HTTP request sent, awaiting response... 302 Found\n",
            "Location: https://ucf304010ea652bb0bfcfbd7009c.dl.dropboxusercontent.com/cd/0/inline/BBt7X7WBr8gznvLZTGkzeNotUwNewTymhpQrg8lzJyfjInrwZJGHBHcp7YKPZImD6LsizT42sfgajFqqd3n0Svp3Cdni7N5mIesca8oFSJiatjzpVg2I3E5unTl7uvTU-DM/file# [following]\n",
            "--2020-10-22 11:08:34--  https://ucf304010ea652bb0bfcfbd7009c.dl.dropboxusercontent.com/cd/0/inline/BBt7X7WBr8gznvLZTGkzeNotUwNewTymhpQrg8lzJyfjInrwZJGHBHcp7YKPZImD6LsizT42sfgajFqqd3n0Svp3Cdni7N5mIesca8oFSJiatjzpVg2I3E5unTl7uvTU-DM/file\n",
            "Resolving ucf304010ea652bb0bfcfbd7009c.dl.dropboxusercontent.com (ucf304010ea652bb0bfcfbd7009c.dl.dropboxusercontent.com)... 162.125.82.15, 2620:100:6032:15::a27d:520f\n",
            "Connecting to ucf304010ea652bb0bfcfbd7009c.dl.dropboxusercontent.com (ucf304010ea652bb0bfcfbd7009c.dl.dropboxusercontent.com)|162.125.82.15|:443... connected.\n",
            "HTTP request sent, awaiting response... 200 OK\n",
            "Length: 1458608 (1.4M) [text/plain]\n",
            "Saving to: ‘ETH_1h.csv’\n",
            "\n",
            "ETH_1h.csv          100%[===================>]   1.39M  8.49MB/s    in 0.2s    \n",
            "\n",
            "2020-10-22 11:08:34 (8.49 MB/s) - ‘ETH_1h.csv’ saved [1458608/1458608]\n",
            "\n"
          ],
          "name": "stdout"
        }
      ]
    },
    {
      "cell_type": "code",
      "metadata": {
        "id": "maI_hqv0cXyB"
      },
      "source": [
        "import matplotlib.pyplot as plt\n",
        "import pandas as pd\n",
        "import seaborn as sns\n",
        "color = sns.color_palette()\n",
        "sns.set_style('ticks')\n",
        "import numpy as np\n",
        "from scipy import stats\n",
        "from scipy.stats import norm, skew #for some statistics"
      ],
      "execution_count": 2,
      "outputs": []
    },
    {
      "cell_type": "markdown",
      "metadata": {
        "id": "tEknCWDqtJsP"
      },
      "source": [
        "Load Data"
      ]
    },
    {
      "cell_type": "code",
      "metadata": {
        "id": "2Lgo_dT7tRbQ",
        "outputId": "d124cf90-82b8-4ed7-ceeb-1b2999f4ca42",
        "colab": {
          "base_uri": "https://localhost:8080/",
          "height": 195
        }
      },
      "source": [
        "data = pd.read_csv(\"ETH_1h.csv\")\n",
        "data.head()"
      ],
      "execution_count": 3,
      "outputs": [
        {
          "output_type": "execute_result",
          "data": {
            "text/html": [
              "<div>\n",
              "<style scoped>\n",
              "    .dataframe tbody tr th:only-of-type {\n",
              "        vertical-align: middle;\n",
              "    }\n",
              "\n",
              "    .dataframe tbody tr th {\n",
              "        vertical-align: top;\n",
              "    }\n",
              "\n",
              "    .dataframe thead th {\n",
              "        text-align: right;\n",
              "    }\n",
              "</style>\n",
              "<table border=\"1\" class=\"dataframe\">\n",
              "  <thead>\n",
              "    <tr style=\"text-align: right;\">\n",
              "      <th></th>\n",
              "      <th>Date</th>\n",
              "      <th>Symbol</th>\n",
              "      <th>Open</th>\n",
              "      <th>High</th>\n",
              "      <th>Low</th>\n",
              "      <th>Close</th>\n",
              "      <th>Volume</th>\n",
              "    </tr>\n",
              "  </thead>\n",
              "  <tbody>\n",
              "    <tr>\n",
              "      <th>0</th>\n",
              "      <td>2020-03-13 08-PM</td>\n",
              "      <td>ETHUSD</td>\n",
              "      <td>129.94</td>\n",
              "      <td>131.82</td>\n",
              "      <td>126.87</td>\n",
              "      <td>128.71</td>\n",
              "      <td>1940673.93</td>\n",
              "    </tr>\n",
              "    <tr>\n",
              "      <th>1</th>\n",
              "      <td>2020-03-13 07-PM</td>\n",
              "      <td>ETHUSD</td>\n",
              "      <td>119.51</td>\n",
              "      <td>132.02</td>\n",
              "      <td>117.10</td>\n",
              "      <td>129.94</td>\n",
              "      <td>7579741.09</td>\n",
              "    </tr>\n",
              "    <tr>\n",
              "      <th>2</th>\n",
              "      <td>2020-03-13 06-PM</td>\n",
              "      <td>ETHUSD</td>\n",
              "      <td>124.47</td>\n",
              "      <td>124.85</td>\n",
              "      <td>115.50</td>\n",
              "      <td>119.51</td>\n",
              "      <td>4898735.81</td>\n",
              "    </tr>\n",
              "    <tr>\n",
              "      <th>3</th>\n",
              "      <td>2020-03-13 05-PM</td>\n",
              "      <td>ETHUSD</td>\n",
              "      <td>124.08</td>\n",
              "      <td>127.42</td>\n",
              "      <td>121.63</td>\n",
              "      <td>124.47</td>\n",
              "      <td>2753450.92</td>\n",
              "    </tr>\n",
              "    <tr>\n",
              "      <th>4</th>\n",
              "      <td>2020-03-13 04-PM</td>\n",
              "      <td>ETHUSD</td>\n",
              "      <td>124.85</td>\n",
              "      <td>129.51</td>\n",
              "      <td>120.17</td>\n",
              "      <td>124.08</td>\n",
              "      <td>4461424.71</td>\n",
              "    </tr>\n",
              "  </tbody>\n",
              "</table>\n",
              "</div>"
            ],
            "text/plain": [
              "               Date  Symbol    Open    High     Low   Close      Volume\n",
              "0  2020-03-13 08-PM  ETHUSD  129.94  131.82  126.87  128.71  1940673.93\n",
              "1  2020-03-13 07-PM  ETHUSD  119.51  132.02  117.10  129.94  7579741.09\n",
              "2  2020-03-13 06-PM  ETHUSD  124.47  124.85  115.50  119.51  4898735.81\n",
              "3  2020-03-13 05-PM  ETHUSD  124.08  127.42  121.63  124.47  2753450.92\n",
              "4  2020-03-13 04-PM  ETHUSD  124.85  129.51  120.17  124.08  4461424.71"
            ]
          },
          "metadata": {
            "tags": []
          },
          "execution_count": 3
        }
      ]
    },
    {
      "cell_type": "code",
      "metadata": {
        "id": "XrNWu5sc_yaz"
      },
      "source": [
        "# to use datetime object with built-in functions\n",
        "data['Date'] = pd.to_datetime(data['Date'], format = '%Y-%m-%d %I-%p')"
      ],
      "execution_count": 5,
      "outputs": []
    },
    {
      "cell_type": "code",
      "metadata": {
        "id": "MO3ZyA2NAMkQ",
        "outputId": "dc537d80-3685-454c-bb74-1f505385a86e",
        "colab": {
          "base_uri": "https://localhost:8080/",
          "height": 151
        }
      },
      "source": [
        "data.dtypes"
      ],
      "execution_count": 6,
      "outputs": [
        {
          "output_type": "execute_result",
          "data": {
            "text/plain": [
              "Date      datetime64[ns]\n",
              "Symbol            object\n",
              "Open             float64\n",
              "High             float64\n",
              "Low              float64\n",
              "Close            float64\n",
              "Volume           float64\n",
              "dtype: object"
            ]
          },
          "metadata": {
            "tags": []
          },
          "execution_count": 6
        }
      ]
    },
    {
      "cell_type": "code",
      "metadata": {
        "id": "pAfAPNhwA2R4",
        "outputId": "3abcfd32-88a7-4cfb-8876-d1efc0eca6d6",
        "colab": {
          "base_uri": "https://localhost:8080/",
          "height": 35
        }
      },
      "source": [
        "data.loc[0,'Date'].day_name()"
      ],
      "execution_count": 8,
      "outputs": [
        {
          "output_type": "execute_result",
          "data": {
            "application/vnd.google.colaboratory.intrinsic+json": {
              "type": "string"
            },
            "text/plain": [
              "'Friday'"
            ]
          },
          "metadata": {
            "tags": []
          },
          "execution_count": 8
        }
      ]
    },
    {
      "cell_type": "markdown",
      "metadata": {
        "id": "UMKz4398GXj2"
      },
      "source": [
        "Another solution is to read dataframe by giving parser format. "
      ]
    },
    {
      "cell_type": "code",
      "metadata": {
        "id": "Mj7aSDL-BuBT",
        "outputId": "5e7de3eb-dbd4-44f4-8199-145388e213b3",
        "colab": {
          "base_uri": "https://localhost:8080/",
          "height": 249
        }
      },
      "source": [
        "d_parser = lambda x: pd.datetime.strptime(x, '%Y-%m-%d %I-%p')\n",
        "df = pd.read_csv('ETH_1h.csv', parse_dates=['Date'], date_parser=d_parser)\n",
        "df.head()"
      ],
      "execution_count": 9,
      "outputs": [
        {
          "output_type": "stream",
          "text": [
            "/usr/local/lib/python3.6/dist-packages/ipykernel_launcher.py:1: FutureWarning: The pandas.datetime class is deprecated and will be removed from pandas in a future version. Import from datetime instead.\n",
            "  \"\"\"Entry point for launching an IPython kernel.\n"
          ],
          "name": "stderr"
        },
        {
          "output_type": "execute_result",
          "data": {
            "text/html": [
              "<div>\n",
              "<style scoped>\n",
              "    .dataframe tbody tr th:only-of-type {\n",
              "        vertical-align: middle;\n",
              "    }\n",
              "\n",
              "    .dataframe tbody tr th {\n",
              "        vertical-align: top;\n",
              "    }\n",
              "\n",
              "    .dataframe thead th {\n",
              "        text-align: right;\n",
              "    }\n",
              "</style>\n",
              "<table border=\"1\" class=\"dataframe\">\n",
              "  <thead>\n",
              "    <tr style=\"text-align: right;\">\n",
              "      <th></th>\n",
              "      <th>Date</th>\n",
              "      <th>Symbol</th>\n",
              "      <th>Open</th>\n",
              "      <th>High</th>\n",
              "      <th>Low</th>\n",
              "      <th>Close</th>\n",
              "      <th>Volume</th>\n",
              "    </tr>\n",
              "  </thead>\n",
              "  <tbody>\n",
              "    <tr>\n",
              "      <th>0</th>\n",
              "      <td>2020-03-13 20:00:00</td>\n",
              "      <td>ETHUSD</td>\n",
              "      <td>129.94</td>\n",
              "      <td>131.82</td>\n",
              "      <td>126.87</td>\n",
              "      <td>128.71</td>\n",
              "      <td>1940673.93</td>\n",
              "    </tr>\n",
              "    <tr>\n",
              "      <th>1</th>\n",
              "      <td>2020-03-13 19:00:00</td>\n",
              "      <td>ETHUSD</td>\n",
              "      <td>119.51</td>\n",
              "      <td>132.02</td>\n",
              "      <td>117.10</td>\n",
              "      <td>129.94</td>\n",
              "      <td>7579741.09</td>\n",
              "    </tr>\n",
              "    <tr>\n",
              "      <th>2</th>\n",
              "      <td>2020-03-13 18:00:00</td>\n",
              "      <td>ETHUSD</td>\n",
              "      <td>124.47</td>\n",
              "      <td>124.85</td>\n",
              "      <td>115.50</td>\n",
              "      <td>119.51</td>\n",
              "      <td>4898735.81</td>\n",
              "    </tr>\n",
              "    <tr>\n",
              "      <th>3</th>\n",
              "      <td>2020-03-13 17:00:00</td>\n",
              "      <td>ETHUSD</td>\n",
              "      <td>124.08</td>\n",
              "      <td>127.42</td>\n",
              "      <td>121.63</td>\n",
              "      <td>124.47</td>\n",
              "      <td>2753450.92</td>\n",
              "    </tr>\n",
              "    <tr>\n",
              "      <th>4</th>\n",
              "      <td>2020-03-13 16:00:00</td>\n",
              "      <td>ETHUSD</td>\n",
              "      <td>124.85</td>\n",
              "      <td>129.51</td>\n",
              "      <td>120.17</td>\n",
              "      <td>124.08</td>\n",
              "      <td>4461424.71</td>\n",
              "    </tr>\n",
              "  </tbody>\n",
              "</table>\n",
              "</div>"
            ],
            "text/plain": [
              "                 Date  Symbol    Open    High     Low   Close      Volume\n",
              "0 2020-03-13 20:00:00  ETHUSD  129.94  131.82  126.87  128.71  1940673.93\n",
              "1 2020-03-13 19:00:00  ETHUSD  119.51  132.02  117.10  129.94  7579741.09\n",
              "2 2020-03-13 18:00:00  ETHUSD  124.47  124.85  115.50  119.51  4898735.81\n",
              "3 2020-03-13 17:00:00  ETHUSD  124.08  127.42  121.63  124.47  2753450.92\n",
              "4 2020-03-13 16:00:00  ETHUSD  124.85  129.51  120.17  124.08  4461424.71"
            ]
          },
          "metadata": {
            "tags": []
          },
          "execution_count": 9
        }
      ]
    },
    {
      "cell_type": "code",
      "metadata": {
        "id": "-o_dYmvPGjaM",
        "outputId": "e574082e-a538-40a2-fca6-ada52d88c408",
        "colab": {
          "base_uri": "https://localhost:8080/",
          "height": 402
        }
      },
      "source": [
        "# print all day names of the column\n",
        "df['DayOfWeek']  = df['Date'].dt.day_name()\n",
        "df"
      ],
      "execution_count": 12,
      "outputs": [
        {
          "output_type": "execute_result",
          "data": {
            "text/html": [
              "<div>\n",
              "<style scoped>\n",
              "    .dataframe tbody tr th:only-of-type {\n",
              "        vertical-align: middle;\n",
              "    }\n",
              "\n",
              "    .dataframe tbody tr th {\n",
              "        vertical-align: top;\n",
              "    }\n",
              "\n",
              "    .dataframe thead th {\n",
              "        text-align: right;\n",
              "    }\n",
              "</style>\n",
              "<table border=\"1\" class=\"dataframe\">\n",
              "  <thead>\n",
              "    <tr style=\"text-align: right;\">\n",
              "      <th></th>\n",
              "      <th>Date</th>\n",
              "      <th>Symbol</th>\n",
              "      <th>Open</th>\n",
              "      <th>High</th>\n",
              "      <th>Low</th>\n",
              "      <th>Close</th>\n",
              "      <th>Volume</th>\n",
              "      <th>DayOfWeek</th>\n",
              "    </tr>\n",
              "  </thead>\n",
              "  <tbody>\n",
              "    <tr>\n",
              "      <th>0</th>\n",
              "      <td>2020-03-13 20:00:00</td>\n",
              "      <td>ETHUSD</td>\n",
              "      <td>129.94</td>\n",
              "      <td>131.82</td>\n",
              "      <td>126.87</td>\n",
              "      <td>128.71</td>\n",
              "      <td>1940673.93</td>\n",
              "      <td>Friday</td>\n",
              "    </tr>\n",
              "    <tr>\n",
              "      <th>1</th>\n",
              "      <td>2020-03-13 19:00:00</td>\n",
              "      <td>ETHUSD</td>\n",
              "      <td>119.51</td>\n",
              "      <td>132.02</td>\n",
              "      <td>117.10</td>\n",
              "      <td>129.94</td>\n",
              "      <td>7579741.09</td>\n",
              "      <td>Friday</td>\n",
              "    </tr>\n",
              "    <tr>\n",
              "      <th>2</th>\n",
              "      <td>2020-03-13 18:00:00</td>\n",
              "      <td>ETHUSD</td>\n",
              "      <td>124.47</td>\n",
              "      <td>124.85</td>\n",
              "      <td>115.50</td>\n",
              "      <td>119.51</td>\n",
              "      <td>4898735.81</td>\n",
              "      <td>Friday</td>\n",
              "    </tr>\n",
              "    <tr>\n",
              "      <th>3</th>\n",
              "      <td>2020-03-13 17:00:00</td>\n",
              "      <td>ETHUSD</td>\n",
              "      <td>124.08</td>\n",
              "      <td>127.42</td>\n",
              "      <td>121.63</td>\n",
              "      <td>124.47</td>\n",
              "      <td>2753450.92</td>\n",
              "      <td>Friday</td>\n",
              "    </tr>\n",
              "    <tr>\n",
              "      <th>4</th>\n",
              "      <td>2020-03-13 16:00:00</td>\n",
              "      <td>ETHUSD</td>\n",
              "      <td>124.85</td>\n",
              "      <td>129.51</td>\n",
              "      <td>120.17</td>\n",
              "      <td>124.08</td>\n",
              "      <td>4461424.71</td>\n",
              "      <td>Friday</td>\n",
              "    </tr>\n",
              "    <tr>\n",
              "      <th>...</th>\n",
              "      <td>...</td>\n",
              "      <td>...</td>\n",
              "      <td>...</td>\n",
              "      <td>...</td>\n",
              "      <td>...</td>\n",
              "      <td>...</td>\n",
              "      <td>...</td>\n",
              "      <td>...</td>\n",
              "    </tr>\n",
              "    <tr>\n",
              "      <th>23669</th>\n",
              "      <td>2017-07-01 15:00:00</td>\n",
              "      <td>ETHUSD</td>\n",
              "      <td>265.74</td>\n",
              "      <td>272.74</td>\n",
              "      <td>265.00</td>\n",
              "      <td>272.57</td>\n",
              "      <td>1500282.55</td>\n",
              "      <td>Saturday</td>\n",
              "    </tr>\n",
              "    <tr>\n",
              "      <th>23670</th>\n",
              "      <td>2017-07-01 14:00:00</td>\n",
              "      <td>ETHUSD</td>\n",
              "      <td>268.79</td>\n",
              "      <td>269.90</td>\n",
              "      <td>265.00</td>\n",
              "      <td>265.74</td>\n",
              "      <td>1702536.85</td>\n",
              "      <td>Saturday</td>\n",
              "    </tr>\n",
              "    <tr>\n",
              "      <th>23671</th>\n",
              "      <td>2017-07-01 13:00:00</td>\n",
              "      <td>ETHUSD</td>\n",
              "      <td>274.83</td>\n",
              "      <td>274.93</td>\n",
              "      <td>265.00</td>\n",
              "      <td>268.79</td>\n",
              "      <td>3010787.99</td>\n",
              "      <td>Saturday</td>\n",
              "    </tr>\n",
              "    <tr>\n",
              "      <th>23672</th>\n",
              "      <td>2017-07-01 12:00:00</td>\n",
              "      <td>ETHUSD</td>\n",
              "      <td>275.01</td>\n",
              "      <td>275.01</td>\n",
              "      <td>271.00</td>\n",
              "      <td>274.83</td>\n",
              "      <td>824362.87</td>\n",
              "      <td>Saturday</td>\n",
              "    </tr>\n",
              "    <tr>\n",
              "      <th>23673</th>\n",
              "      <td>2017-07-01 11:00:00</td>\n",
              "      <td>ETHUSD</td>\n",
              "      <td>279.98</td>\n",
              "      <td>279.99</td>\n",
              "      <td>272.10</td>\n",
              "      <td>275.01</td>\n",
              "      <td>679358.87</td>\n",
              "      <td>Saturday</td>\n",
              "    </tr>\n",
              "  </tbody>\n",
              "</table>\n",
              "<p>23674 rows × 8 columns</p>\n",
              "</div>"
            ],
            "text/plain": [
              "                     Date  Symbol    Open  ...   Close      Volume  DayOfWeek\n",
              "0     2020-03-13 20:00:00  ETHUSD  129.94  ...  128.71  1940673.93     Friday\n",
              "1     2020-03-13 19:00:00  ETHUSD  119.51  ...  129.94  7579741.09     Friday\n",
              "2     2020-03-13 18:00:00  ETHUSD  124.47  ...  119.51  4898735.81     Friday\n",
              "3     2020-03-13 17:00:00  ETHUSD  124.08  ...  124.47  2753450.92     Friday\n",
              "4     2020-03-13 16:00:00  ETHUSD  124.85  ...  124.08  4461424.71     Friday\n",
              "...                   ...     ...     ...  ...     ...         ...        ...\n",
              "23669 2017-07-01 15:00:00  ETHUSD  265.74  ...  272.57  1500282.55   Saturday\n",
              "23670 2017-07-01 14:00:00  ETHUSD  268.79  ...  265.74  1702536.85   Saturday\n",
              "23671 2017-07-01 13:00:00  ETHUSD  274.83  ...  268.79  3010787.99   Saturday\n",
              "23672 2017-07-01 12:00:00  ETHUSD  275.01  ...  274.83   824362.87   Saturday\n",
              "23673 2017-07-01 11:00:00  ETHUSD  279.98  ...  275.01   679358.87   Saturday\n",
              "\n",
              "[23674 rows x 8 columns]"
            ]
          },
          "metadata": {
            "tags": []
          },
          "execution_count": 12
        }
      ]
    },
    {
      "cell_type": "code",
      "metadata": {
        "id": "sqkYgYOQHFQa",
        "outputId": "e3d96d5d-8463-4a74-f90e-508afd57584f",
        "colab": {
          "base_uri": "https://localhost:8080/",
          "height": 34
        }
      },
      "source": [
        "df['Date'].max() - df['Date'].min()"
      ],
      "execution_count": 13,
      "outputs": [
        {
          "output_type": "execute_result",
          "data": {
            "text/plain": [
              "Timedelta('986 days 09:00:00')"
            ]
          },
          "metadata": {
            "tags": []
          },
          "execution_count": 13
        }
      ]
    },
    {
      "cell_type": "code",
      "metadata": {
        "id": "UBwr45NzLZYw",
        "outputId": "5df0b69d-0019-4989-9dc8-db74be366c8c",
        "colab": {
          "base_uri": "https://localhost:8080/",
          "height": 402
        }
      },
      "source": [
        "# filtering datetime object\n",
        "#filt = (df['Date'] >= pd.to_datetime('2019-01-01')) & (df['Date'] < pd.to_datetime('2020-01-01')) # you can also filter like this format. \n",
        "filt = (df['Date'] >= '2019') & (df['Date'] < '2020')\n",
        "df.loc[filt]"
      ],
      "execution_count": 16,
      "outputs": [
        {
          "output_type": "execute_result",
          "data": {
            "text/html": [
              "<div>\n",
              "<style scoped>\n",
              "    .dataframe tbody tr th:only-of-type {\n",
              "        vertical-align: middle;\n",
              "    }\n",
              "\n",
              "    .dataframe tbody tr th {\n",
              "        vertical-align: top;\n",
              "    }\n",
              "\n",
              "    .dataframe thead th {\n",
              "        text-align: right;\n",
              "    }\n",
              "</style>\n",
              "<table border=\"1\" class=\"dataframe\">\n",
              "  <thead>\n",
              "    <tr style=\"text-align: right;\">\n",
              "      <th></th>\n",
              "      <th>Date</th>\n",
              "      <th>Symbol</th>\n",
              "      <th>Open</th>\n",
              "      <th>High</th>\n",
              "      <th>Low</th>\n",
              "      <th>Close</th>\n",
              "      <th>Volume</th>\n",
              "      <th>DayOfWeek</th>\n",
              "    </tr>\n",
              "  </thead>\n",
              "  <tbody>\n",
              "    <tr>\n",
              "      <th>1749</th>\n",
              "      <td>2019-12-31 23:00:00</td>\n",
              "      <td>ETHUSD</td>\n",
              "      <td>128.33</td>\n",
              "      <td>128.69</td>\n",
              "      <td>128.14</td>\n",
              "      <td>128.54</td>\n",
              "      <td>440678.91</td>\n",
              "      <td>Tuesday</td>\n",
              "    </tr>\n",
              "    <tr>\n",
              "      <th>1750</th>\n",
              "      <td>2019-12-31 22:00:00</td>\n",
              "      <td>ETHUSD</td>\n",
              "      <td>128.38</td>\n",
              "      <td>128.69</td>\n",
              "      <td>127.95</td>\n",
              "      <td>128.33</td>\n",
              "      <td>554646.02</td>\n",
              "      <td>Tuesday</td>\n",
              "    </tr>\n",
              "    <tr>\n",
              "      <th>1751</th>\n",
              "      <td>2019-12-31 21:00:00</td>\n",
              "      <td>ETHUSD</td>\n",
              "      <td>127.86</td>\n",
              "      <td>128.43</td>\n",
              "      <td>127.72</td>\n",
              "      <td>128.38</td>\n",
              "      <td>350155.69</td>\n",
              "      <td>Tuesday</td>\n",
              "    </tr>\n",
              "    <tr>\n",
              "      <th>1752</th>\n",
              "      <td>2019-12-31 20:00:00</td>\n",
              "      <td>ETHUSD</td>\n",
              "      <td>127.84</td>\n",
              "      <td>128.34</td>\n",
              "      <td>127.71</td>\n",
              "      <td>127.86</td>\n",
              "      <td>428183.38</td>\n",
              "      <td>Tuesday</td>\n",
              "    </tr>\n",
              "    <tr>\n",
              "      <th>1753</th>\n",
              "      <td>2019-12-31 19:00:00</td>\n",
              "      <td>ETHUSD</td>\n",
              "      <td>128.69</td>\n",
              "      <td>128.69</td>\n",
              "      <td>127.60</td>\n",
              "      <td>127.84</td>\n",
              "      <td>1169847.84</td>\n",
              "      <td>Tuesday</td>\n",
              "    </tr>\n",
              "    <tr>\n",
              "      <th>...</th>\n",
              "      <td>...</td>\n",
              "      <td>...</td>\n",
              "      <td>...</td>\n",
              "      <td>...</td>\n",
              "      <td>...</td>\n",
              "      <td>...</td>\n",
              "      <td>...</td>\n",
              "      <td>...</td>\n",
              "    </tr>\n",
              "    <tr>\n",
              "      <th>10504</th>\n",
              "      <td>2019-01-01 04:00:00</td>\n",
              "      <td>ETHUSD</td>\n",
              "      <td>130.75</td>\n",
              "      <td>133.96</td>\n",
              "      <td>130.74</td>\n",
              "      <td>131.96</td>\n",
              "      <td>2791135.37</td>\n",
              "      <td>Tuesday</td>\n",
              "    </tr>\n",
              "    <tr>\n",
              "      <th>10505</th>\n",
              "      <td>2019-01-01 03:00:00</td>\n",
              "      <td>ETHUSD</td>\n",
              "      <td>130.06</td>\n",
              "      <td>130.79</td>\n",
              "      <td>130.06</td>\n",
              "      <td>130.75</td>\n",
              "      <td>503732.63</td>\n",
              "      <td>Tuesday</td>\n",
              "    </tr>\n",
              "    <tr>\n",
              "      <th>10506</th>\n",
              "      <td>2019-01-01 02:00:00</td>\n",
              "      <td>ETHUSD</td>\n",
              "      <td>130.79</td>\n",
              "      <td>130.88</td>\n",
              "      <td>129.55</td>\n",
              "      <td>130.06</td>\n",
              "      <td>838183.43</td>\n",
              "      <td>Tuesday</td>\n",
              "    </tr>\n",
              "    <tr>\n",
              "      <th>10507</th>\n",
              "      <td>2019-01-01 01:00:00</td>\n",
              "      <td>ETHUSD</td>\n",
              "      <td>131.62</td>\n",
              "      <td>131.62</td>\n",
              "      <td>130.77</td>\n",
              "      <td>130.79</td>\n",
              "      <td>434917.99</td>\n",
              "      <td>Tuesday</td>\n",
              "    </tr>\n",
              "    <tr>\n",
              "      <th>10508</th>\n",
              "      <td>2019-01-01 00:00:00</td>\n",
              "      <td>ETHUSD</td>\n",
              "      <td>130.53</td>\n",
              "      <td>131.91</td>\n",
              "      <td>130.48</td>\n",
              "      <td>131.62</td>\n",
              "      <td>1067136.21</td>\n",
              "      <td>Tuesday</td>\n",
              "    </tr>\n",
              "  </tbody>\n",
              "</table>\n",
              "<p>8760 rows × 8 columns</p>\n",
              "</div>"
            ],
            "text/plain": [
              "                     Date  Symbol    Open  ...   Close      Volume  DayOfWeek\n",
              "1749  2019-12-31 23:00:00  ETHUSD  128.33  ...  128.54   440678.91    Tuesday\n",
              "1750  2019-12-31 22:00:00  ETHUSD  128.38  ...  128.33   554646.02    Tuesday\n",
              "1751  2019-12-31 21:00:00  ETHUSD  127.86  ...  128.38   350155.69    Tuesday\n",
              "1752  2019-12-31 20:00:00  ETHUSD  127.84  ...  127.86   428183.38    Tuesday\n",
              "1753  2019-12-31 19:00:00  ETHUSD  128.69  ...  127.84  1169847.84    Tuesday\n",
              "...                   ...     ...     ...  ...     ...         ...        ...\n",
              "10504 2019-01-01 04:00:00  ETHUSD  130.75  ...  131.96  2791135.37    Tuesday\n",
              "10505 2019-01-01 03:00:00  ETHUSD  130.06  ...  130.75   503732.63    Tuesday\n",
              "10506 2019-01-01 02:00:00  ETHUSD  130.79  ...  130.06   838183.43    Tuesday\n",
              "10507 2019-01-01 01:00:00  ETHUSD  131.62  ...  130.79   434917.99    Tuesday\n",
              "10508 2019-01-01 00:00:00  ETHUSD  130.53  ...  131.62  1067136.21    Tuesday\n",
              "\n",
              "[8760 rows x 8 columns]"
            ]
          },
          "metadata": {
            "tags": []
          },
          "execution_count": 16
        }
      ]
    },
    {
      "cell_type": "code",
      "metadata": {
        "id": "e_BYjeWYK-iy",
        "outputId": "ee22b04c-69c4-4326-b3fc-0c217d78b256",
        "colab": {
          "base_uri": "https://localhost:8080/",
          "height": 402
        }
      },
      "source": [
        "filt = (df['Date'] >= pd.to_datetime('2019-01-01')) & (df['Date'] < pd.to_datetime('2020-01-01'))\n",
        "df.loc[filt]"
      ],
      "execution_count": 14,
      "outputs": [
        {
          "output_type": "execute_result",
          "data": {
            "text/html": [
              "<div>\n",
              "<style scoped>\n",
              "    .dataframe tbody tr th:only-of-type {\n",
              "        vertical-align: middle;\n",
              "    }\n",
              "\n",
              "    .dataframe tbody tr th {\n",
              "        vertical-align: top;\n",
              "    }\n",
              "\n",
              "    .dataframe thead th {\n",
              "        text-align: right;\n",
              "    }\n",
              "</style>\n",
              "<table border=\"1\" class=\"dataframe\">\n",
              "  <thead>\n",
              "    <tr style=\"text-align: right;\">\n",
              "      <th></th>\n",
              "      <th>Date</th>\n",
              "      <th>Symbol</th>\n",
              "      <th>Open</th>\n",
              "      <th>High</th>\n",
              "      <th>Low</th>\n",
              "      <th>Close</th>\n",
              "      <th>Volume</th>\n",
              "      <th>DayOfWeek</th>\n",
              "    </tr>\n",
              "  </thead>\n",
              "  <tbody>\n",
              "    <tr>\n",
              "      <th>1749</th>\n",
              "      <td>2019-12-31 23:00:00</td>\n",
              "      <td>ETHUSD</td>\n",
              "      <td>128.33</td>\n",
              "      <td>128.69</td>\n",
              "      <td>128.14</td>\n",
              "      <td>128.54</td>\n",
              "      <td>440678.91</td>\n",
              "      <td>Tuesday</td>\n",
              "    </tr>\n",
              "    <tr>\n",
              "      <th>1750</th>\n",
              "      <td>2019-12-31 22:00:00</td>\n",
              "      <td>ETHUSD</td>\n",
              "      <td>128.38</td>\n",
              "      <td>128.69</td>\n",
              "      <td>127.95</td>\n",
              "      <td>128.33</td>\n",
              "      <td>554646.02</td>\n",
              "      <td>Tuesday</td>\n",
              "    </tr>\n",
              "    <tr>\n",
              "      <th>1751</th>\n",
              "      <td>2019-12-31 21:00:00</td>\n",
              "      <td>ETHUSD</td>\n",
              "      <td>127.86</td>\n",
              "      <td>128.43</td>\n",
              "      <td>127.72</td>\n",
              "      <td>128.38</td>\n",
              "      <td>350155.69</td>\n",
              "      <td>Tuesday</td>\n",
              "    </tr>\n",
              "    <tr>\n",
              "      <th>1752</th>\n",
              "      <td>2019-12-31 20:00:00</td>\n",
              "      <td>ETHUSD</td>\n",
              "      <td>127.84</td>\n",
              "      <td>128.34</td>\n",
              "      <td>127.71</td>\n",
              "      <td>127.86</td>\n",
              "      <td>428183.38</td>\n",
              "      <td>Tuesday</td>\n",
              "    </tr>\n",
              "    <tr>\n",
              "      <th>1753</th>\n",
              "      <td>2019-12-31 19:00:00</td>\n",
              "      <td>ETHUSD</td>\n",
              "      <td>128.69</td>\n",
              "      <td>128.69</td>\n",
              "      <td>127.60</td>\n",
              "      <td>127.84</td>\n",
              "      <td>1169847.84</td>\n",
              "      <td>Tuesday</td>\n",
              "    </tr>\n",
              "    <tr>\n",
              "      <th>...</th>\n",
              "      <td>...</td>\n",
              "      <td>...</td>\n",
              "      <td>...</td>\n",
              "      <td>...</td>\n",
              "      <td>...</td>\n",
              "      <td>...</td>\n",
              "      <td>...</td>\n",
              "      <td>...</td>\n",
              "    </tr>\n",
              "    <tr>\n",
              "      <th>10504</th>\n",
              "      <td>2019-01-01 04:00:00</td>\n",
              "      <td>ETHUSD</td>\n",
              "      <td>130.75</td>\n",
              "      <td>133.96</td>\n",
              "      <td>130.74</td>\n",
              "      <td>131.96</td>\n",
              "      <td>2791135.37</td>\n",
              "      <td>Tuesday</td>\n",
              "    </tr>\n",
              "    <tr>\n",
              "      <th>10505</th>\n",
              "      <td>2019-01-01 03:00:00</td>\n",
              "      <td>ETHUSD</td>\n",
              "      <td>130.06</td>\n",
              "      <td>130.79</td>\n",
              "      <td>130.06</td>\n",
              "      <td>130.75</td>\n",
              "      <td>503732.63</td>\n",
              "      <td>Tuesday</td>\n",
              "    </tr>\n",
              "    <tr>\n",
              "      <th>10506</th>\n",
              "      <td>2019-01-01 02:00:00</td>\n",
              "      <td>ETHUSD</td>\n",
              "      <td>130.79</td>\n",
              "      <td>130.88</td>\n",
              "      <td>129.55</td>\n",
              "      <td>130.06</td>\n",
              "      <td>838183.43</td>\n",
              "      <td>Tuesday</td>\n",
              "    </tr>\n",
              "    <tr>\n",
              "      <th>10507</th>\n",
              "      <td>2019-01-01 01:00:00</td>\n",
              "      <td>ETHUSD</td>\n",
              "      <td>131.62</td>\n",
              "      <td>131.62</td>\n",
              "      <td>130.77</td>\n",
              "      <td>130.79</td>\n",
              "      <td>434917.99</td>\n",
              "      <td>Tuesday</td>\n",
              "    </tr>\n",
              "    <tr>\n",
              "      <th>10508</th>\n",
              "      <td>2019-01-01 00:00:00</td>\n",
              "      <td>ETHUSD</td>\n",
              "      <td>130.53</td>\n",
              "      <td>131.91</td>\n",
              "      <td>130.48</td>\n",
              "      <td>131.62</td>\n",
              "      <td>1067136.21</td>\n",
              "      <td>Tuesday</td>\n",
              "    </tr>\n",
              "  </tbody>\n",
              "</table>\n",
              "<p>8760 rows × 8 columns</p>\n",
              "</div>"
            ],
            "text/plain": [
              "                     Date  Symbol    Open  ...   Close      Volume  DayOfWeek\n",
              "1749  2019-12-31 23:00:00  ETHUSD  128.33  ...  128.54   440678.91    Tuesday\n",
              "1750  2019-12-31 22:00:00  ETHUSD  128.38  ...  128.33   554646.02    Tuesday\n",
              "1751  2019-12-31 21:00:00  ETHUSD  127.86  ...  128.38   350155.69    Tuesday\n",
              "1752  2019-12-31 20:00:00  ETHUSD  127.84  ...  127.86   428183.38    Tuesday\n",
              "1753  2019-12-31 19:00:00  ETHUSD  128.69  ...  127.84  1169847.84    Tuesday\n",
              "...                   ...     ...     ...  ...     ...         ...        ...\n",
              "10504 2019-01-01 04:00:00  ETHUSD  130.75  ...  131.96  2791135.37    Tuesday\n",
              "10505 2019-01-01 03:00:00  ETHUSD  130.06  ...  130.75   503732.63    Tuesday\n",
              "10506 2019-01-01 02:00:00  ETHUSD  130.79  ...  130.06   838183.43    Tuesday\n",
              "10507 2019-01-01 01:00:00  ETHUSD  131.62  ...  130.79   434917.99    Tuesday\n",
              "10508 2019-01-01 00:00:00  ETHUSD  130.53  ...  131.62  1067136.21    Tuesday\n",
              "\n",
              "[8760 rows x 8 columns]"
            ]
          },
          "metadata": {
            "tags": []
          },
          "execution_count": 14
        }
      ]
    },
    {
      "cell_type": "code",
      "metadata": {
        "id": "SrE41oEwLJBI"
      },
      "source": [
        "df.set_index('Date', inplace=True)"
      ],
      "execution_count": 17,
      "outputs": []
    },
    {
      "cell_type": "code",
      "metadata": {
        "id": "DlO-qxIYNxpE",
        "outputId": "dffc459f-1fa8-4bf5-8b57-d60bbb1bf0ff",
        "colab": {
          "base_uri": "https://localhost:8080/",
          "height": 225
        }
      },
      "source": [
        "df.head()"
      ],
      "execution_count": 18,
      "outputs": [
        {
          "output_type": "execute_result",
          "data": {
            "text/html": [
              "<div>\n",
              "<style scoped>\n",
              "    .dataframe tbody tr th:only-of-type {\n",
              "        vertical-align: middle;\n",
              "    }\n",
              "\n",
              "    .dataframe tbody tr th {\n",
              "        vertical-align: top;\n",
              "    }\n",
              "\n",
              "    .dataframe thead th {\n",
              "        text-align: right;\n",
              "    }\n",
              "</style>\n",
              "<table border=\"1\" class=\"dataframe\">\n",
              "  <thead>\n",
              "    <tr style=\"text-align: right;\">\n",
              "      <th></th>\n",
              "      <th>Symbol</th>\n",
              "      <th>Open</th>\n",
              "      <th>High</th>\n",
              "      <th>Low</th>\n",
              "      <th>Close</th>\n",
              "      <th>Volume</th>\n",
              "      <th>DayOfWeek</th>\n",
              "    </tr>\n",
              "    <tr>\n",
              "      <th>Date</th>\n",
              "      <th></th>\n",
              "      <th></th>\n",
              "      <th></th>\n",
              "      <th></th>\n",
              "      <th></th>\n",
              "      <th></th>\n",
              "      <th></th>\n",
              "    </tr>\n",
              "  </thead>\n",
              "  <tbody>\n",
              "    <tr>\n",
              "      <th>2020-03-13 20:00:00</th>\n",
              "      <td>ETHUSD</td>\n",
              "      <td>129.94</td>\n",
              "      <td>131.82</td>\n",
              "      <td>126.87</td>\n",
              "      <td>128.71</td>\n",
              "      <td>1940673.93</td>\n",
              "      <td>Friday</td>\n",
              "    </tr>\n",
              "    <tr>\n",
              "      <th>2020-03-13 19:00:00</th>\n",
              "      <td>ETHUSD</td>\n",
              "      <td>119.51</td>\n",
              "      <td>132.02</td>\n",
              "      <td>117.10</td>\n",
              "      <td>129.94</td>\n",
              "      <td>7579741.09</td>\n",
              "      <td>Friday</td>\n",
              "    </tr>\n",
              "    <tr>\n",
              "      <th>2020-03-13 18:00:00</th>\n",
              "      <td>ETHUSD</td>\n",
              "      <td>124.47</td>\n",
              "      <td>124.85</td>\n",
              "      <td>115.50</td>\n",
              "      <td>119.51</td>\n",
              "      <td>4898735.81</td>\n",
              "      <td>Friday</td>\n",
              "    </tr>\n",
              "    <tr>\n",
              "      <th>2020-03-13 17:00:00</th>\n",
              "      <td>ETHUSD</td>\n",
              "      <td>124.08</td>\n",
              "      <td>127.42</td>\n",
              "      <td>121.63</td>\n",
              "      <td>124.47</td>\n",
              "      <td>2753450.92</td>\n",
              "      <td>Friday</td>\n",
              "    </tr>\n",
              "    <tr>\n",
              "      <th>2020-03-13 16:00:00</th>\n",
              "      <td>ETHUSD</td>\n",
              "      <td>124.85</td>\n",
              "      <td>129.51</td>\n",
              "      <td>120.17</td>\n",
              "      <td>124.08</td>\n",
              "      <td>4461424.71</td>\n",
              "      <td>Friday</td>\n",
              "    </tr>\n",
              "  </tbody>\n",
              "</table>\n",
              "</div>"
            ],
            "text/plain": [
              "                     Symbol    Open    High  ...   Close      Volume  DayOfWeek\n",
              "Date                                         ...                               \n",
              "2020-03-13 20:00:00  ETHUSD  129.94  131.82  ...  128.71  1940673.93     Friday\n",
              "2020-03-13 19:00:00  ETHUSD  119.51  132.02  ...  129.94  7579741.09     Friday\n",
              "2020-03-13 18:00:00  ETHUSD  124.47  124.85  ...  119.51  4898735.81     Friday\n",
              "2020-03-13 17:00:00  ETHUSD  124.08  127.42  ...  124.47  2753450.92     Friday\n",
              "2020-03-13 16:00:00  ETHUSD  124.85  129.51  ...  124.08  4461424.71     Friday\n",
              "\n",
              "[5 rows x 7 columns]"
            ]
          },
          "metadata": {
            "tags": []
          },
          "execution_count": 18
        }
      ]
    },
    {
      "cell_type": "code",
      "metadata": {
        "id": "0ubIpMBeNybV",
        "outputId": "cddf5294-01f2-48fb-9542-3b737e99c7f2",
        "colab": {
          "base_uri": "https://localhost:8080/",
          "height": 431
        }
      },
      "source": [
        "# index based filtering the dataframe \n",
        "df.loc['2019-01':'2019-02']"
      ],
      "execution_count": 19,
      "outputs": [
        {
          "output_type": "execute_result",
          "data": {
            "text/html": [
              "<div>\n",
              "<style scoped>\n",
              "    .dataframe tbody tr th:only-of-type {\n",
              "        vertical-align: middle;\n",
              "    }\n",
              "\n",
              "    .dataframe tbody tr th {\n",
              "        vertical-align: top;\n",
              "    }\n",
              "\n",
              "    .dataframe thead th {\n",
              "        text-align: right;\n",
              "    }\n",
              "</style>\n",
              "<table border=\"1\" class=\"dataframe\">\n",
              "  <thead>\n",
              "    <tr style=\"text-align: right;\">\n",
              "      <th></th>\n",
              "      <th>Symbol</th>\n",
              "      <th>Open</th>\n",
              "      <th>High</th>\n",
              "      <th>Low</th>\n",
              "      <th>Close</th>\n",
              "      <th>Volume</th>\n",
              "      <th>DayOfWeek</th>\n",
              "    </tr>\n",
              "    <tr>\n",
              "      <th>Date</th>\n",
              "      <th></th>\n",
              "      <th></th>\n",
              "      <th></th>\n",
              "      <th></th>\n",
              "      <th></th>\n",
              "      <th></th>\n",
              "      <th></th>\n",
              "    </tr>\n",
              "  </thead>\n",
              "  <tbody>\n",
              "    <tr>\n",
              "      <th>2019-02-28 23:00:00</th>\n",
              "      <td>ETHUSD</td>\n",
              "      <td>134.68</td>\n",
              "      <td>135.53</td>\n",
              "      <td>134.40</td>\n",
              "      <td>134.48</td>\n",
              "      <td>350372.86</td>\n",
              "      <td>Thursday</td>\n",
              "    </tr>\n",
              "    <tr>\n",
              "      <th>2019-02-28 22:00:00</th>\n",
              "      <td>ETHUSD</td>\n",
              "      <td>135.13</td>\n",
              "      <td>135.13</td>\n",
              "      <td>134.25</td>\n",
              "      <td>134.68</td>\n",
              "      <td>331870.37</td>\n",
              "      <td>Thursday</td>\n",
              "    </tr>\n",
              "    <tr>\n",
              "      <th>2019-02-28 21:00:00</th>\n",
              "      <td>ETHUSD</td>\n",
              "      <td>134.99</td>\n",
              "      <td>135.37</td>\n",
              "      <td>134.86</td>\n",
              "      <td>135.13</td>\n",
              "      <td>330511.15</td>\n",
              "      <td>Thursday</td>\n",
              "    </tr>\n",
              "    <tr>\n",
              "      <th>2019-02-28 20:00:00</th>\n",
              "      <td>ETHUSD</td>\n",
              "      <td>135.57</td>\n",
              "      <td>135.60</td>\n",
              "      <td>134.37</td>\n",
              "      <td>134.99</td>\n",
              "      <td>1023140.26</td>\n",
              "      <td>Thursday</td>\n",
              "    </tr>\n",
              "    <tr>\n",
              "      <th>2019-02-28 19:00:00</th>\n",
              "      <td>ETHUSD</td>\n",
              "      <td>136.00</td>\n",
              "      <td>137.50</td>\n",
              "      <td>134.17</td>\n",
              "      <td>135.57</td>\n",
              "      <td>1208793.69</td>\n",
              "      <td>Thursday</td>\n",
              "    </tr>\n",
              "    <tr>\n",
              "      <th>...</th>\n",
              "      <td>...</td>\n",
              "      <td>...</td>\n",
              "      <td>...</td>\n",
              "      <td>...</td>\n",
              "      <td>...</td>\n",
              "      <td>...</td>\n",
              "      <td>...</td>\n",
              "    </tr>\n",
              "    <tr>\n",
              "      <th>2019-01-01 04:00:00</th>\n",
              "      <td>ETHUSD</td>\n",
              "      <td>130.75</td>\n",
              "      <td>133.96</td>\n",
              "      <td>130.74</td>\n",
              "      <td>131.96</td>\n",
              "      <td>2791135.37</td>\n",
              "      <td>Tuesday</td>\n",
              "    </tr>\n",
              "    <tr>\n",
              "      <th>2019-01-01 03:00:00</th>\n",
              "      <td>ETHUSD</td>\n",
              "      <td>130.06</td>\n",
              "      <td>130.79</td>\n",
              "      <td>130.06</td>\n",
              "      <td>130.75</td>\n",
              "      <td>503732.63</td>\n",
              "      <td>Tuesday</td>\n",
              "    </tr>\n",
              "    <tr>\n",
              "      <th>2019-01-01 02:00:00</th>\n",
              "      <td>ETHUSD</td>\n",
              "      <td>130.79</td>\n",
              "      <td>130.88</td>\n",
              "      <td>129.55</td>\n",
              "      <td>130.06</td>\n",
              "      <td>838183.43</td>\n",
              "      <td>Tuesday</td>\n",
              "    </tr>\n",
              "    <tr>\n",
              "      <th>2019-01-01 01:00:00</th>\n",
              "      <td>ETHUSD</td>\n",
              "      <td>131.62</td>\n",
              "      <td>131.62</td>\n",
              "      <td>130.77</td>\n",
              "      <td>130.79</td>\n",
              "      <td>434917.99</td>\n",
              "      <td>Tuesday</td>\n",
              "    </tr>\n",
              "    <tr>\n",
              "      <th>2019-01-01 00:00:00</th>\n",
              "      <td>ETHUSD</td>\n",
              "      <td>130.53</td>\n",
              "      <td>131.91</td>\n",
              "      <td>130.48</td>\n",
              "      <td>131.62</td>\n",
              "      <td>1067136.21</td>\n",
              "      <td>Tuesday</td>\n",
              "    </tr>\n",
              "  </tbody>\n",
              "</table>\n",
              "<p>1416 rows × 7 columns</p>\n",
              "</div>"
            ],
            "text/plain": [
              "                     Symbol    Open    High  ...   Close      Volume  DayOfWeek\n",
              "Date                                         ...                               \n",
              "2019-02-28 23:00:00  ETHUSD  134.68  135.53  ...  134.48   350372.86   Thursday\n",
              "2019-02-28 22:00:00  ETHUSD  135.13  135.13  ...  134.68   331870.37   Thursday\n",
              "2019-02-28 21:00:00  ETHUSD  134.99  135.37  ...  135.13   330511.15   Thursday\n",
              "2019-02-28 20:00:00  ETHUSD  135.57  135.60  ...  134.99  1023140.26   Thursday\n",
              "2019-02-28 19:00:00  ETHUSD  136.00  137.50  ...  135.57  1208793.69   Thursday\n",
              "...                     ...     ...     ...  ...     ...         ...        ...\n",
              "2019-01-01 04:00:00  ETHUSD  130.75  133.96  ...  131.96  2791135.37    Tuesday\n",
              "2019-01-01 03:00:00  ETHUSD  130.06  130.79  ...  130.75   503732.63    Tuesday\n",
              "2019-01-01 02:00:00  ETHUSD  130.79  130.88  ...  130.06   838183.43    Tuesday\n",
              "2019-01-01 01:00:00  ETHUSD  131.62  131.62  ...  130.79   434917.99    Tuesday\n",
              "2019-01-01 00:00:00  ETHUSD  130.53  131.91  ...  131.62  1067136.21    Tuesday\n",
              "\n",
              "[1416 rows x 7 columns]"
            ]
          },
          "metadata": {
            "tags": []
          },
          "execution_count": 19
        }
      ]
    },
    {
      "cell_type": "code",
      "metadata": {
        "id": "0gAGRMeTOVI-",
        "outputId": "eb77b606-151b-47e1-c765-57da5e56df9b",
        "colab": {
          "base_uri": "https://localhost:8080/",
          "height": 235
        }
      },
      "source": [
        "# print highest HIGH value of each data as series\n",
        "# df['2020-01-01']['High'].max()\n",
        "highs = df['High'].resample('D').max()\n",
        "highs"
      ],
      "execution_count": 22,
      "outputs": [
        {
          "output_type": "execute_result",
          "data": {
            "text/plain": [
              "Date\n",
              "2017-07-01    279.99\n",
              "2017-07-02    293.73\n",
              "2017-07-03    285.00\n",
              "2017-07-04    282.83\n",
              "2017-07-05    274.97\n",
              "               ...  \n",
              "2020-03-09    208.65\n",
              "2020-03-10    206.28\n",
              "2020-03-11    202.98\n",
              "2020-03-12    195.64\n",
              "2020-03-13    148.00\n",
              "Freq: D, Name: High, Length: 987, dtype: float64"
            ]
          },
          "metadata": {
            "tags": []
          },
          "execution_count": 22
        }
      ]
    },
    {
      "cell_type": "code",
      "metadata": {
        "id": "qAXx5wTRP4Tt",
        "outputId": "4e4e22fe-f414-40d6-b5e5-4c138d8b9962",
        "colab": {
          "base_uri": "https://localhost:8080/",
          "height": 308
        }
      },
      "source": [
        "highs.plot()"
      ],
      "execution_count": 23,
      "outputs": [
        {
          "output_type": "execute_result",
          "data": {
            "text/plain": [
              "<matplotlib.axes._subplots.AxesSubplot at 0x7ff265d50c88>"
            ]
          },
          "metadata": {
            "tags": []
          },
          "execution_count": 23
        },
        {
          "output_type": "display_data",
          "data": {
            "image/png": "[encoded data removed]",
            "text/plain": [
              "<Figure size 432x288 with 1 Axes>"
            ]
          },
          "metadata": {
            "tags": []
          }
        }
      ]
    },
    {
      "cell_type": "markdown",
      "metadata": {
        "id": "3zIx8BPXQ0-m"
      },
      "source": [
        "Weekly Bases Resampling"
      ]
    },
    {
      "cell_type": "code",
      "metadata": {
        "id": "Q84Oye2mQitk",
        "outputId": "4b38a85b-1c91-46f0-9a8b-7785317d40b0",
        "colab": {
          "base_uri": "https://localhost:8080/",
          "height": 431
        }
      },
      "source": [
        "weeks = df.resample('W').mean()\n",
        "weeks"
      ],
      "execution_count": 24,
      "outputs": [
        {
          "output_type": "execute_result",
          "data": {
            "text/html": [
              "<div>\n",
              "<style scoped>\n",
              "    .dataframe tbody tr th:only-of-type {\n",
              "        vertical-align: middle;\n",
              "    }\n",
              "\n",
              "    .dataframe tbody tr th {\n",
              "        vertical-align: top;\n",
              "    }\n",
              "\n",
              "    .dataframe thead th {\n",
              "        text-align: right;\n",
              "    }\n",
              "</style>\n",
              "<table border=\"1\" class=\"dataframe\">\n",
              "  <thead>\n",
              "    <tr style=\"text-align: right;\">\n",
              "      <th></th>\n",
              "      <th>Open</th>\n",
              "      <th>High</th>\n",
              "      <th>Low</th>\n",
              "      <th>Close</th>\n",
              "      <th>Volume</th>\n",
              "    </tr>\n",
              "    <tr>\n",
              "      <th>Date</th>\n",
              "      <th></th>\n",
              "      <th></th>\n",
              "      <th></th>\n",
              "      <th></th>\n",
              "      <th></th>\n",
              "    </tr>\n",
              "  </thead>\n",
              "  <tbody>\n",
              "    <tr>\n",
              "      <th>2017-07-02</th>\n",
              "      <td>268.066486</td>\n",
              "      <td>271.124595</td>\n",
              "      <td>264.819730</td>\n",
              "      <td>268.202162</td>\n",
              "      <td>2.185035e+06</td>\n",
              "    </tr>\n",
              "    <tr>\n",
              "      <th>2017-07-09</th>\n",
              "      <td>261.337024</td>\n",
              "      <td>262.872917</td>\n",
              "      <td>259.186190</td>\n",
              "      <td>261.062083</td>\n",
              "      <td>1.337349e+06</td>\n",
              "    </tr>\n",
              "    <tr>\n",
              "      <th>2017-07-16</th>\n",
              "      <td>196.193214</td>\n",
              "      <td>199.204405</td>\n",
              "      <td>192.722321</td>\n",
              "      <td>195.698393</td>\n",
              "      <td>2.986756e+06</td>\n",
              "    </tr>\n",
              "    <tr>\n",
              "      <th>2017-07-23</th>\n",
              "      <td>212.351429</td>\n",
              "      <td>215.779286</td>\n",
              "      <td>209.126310</td>\n",
              "      <td>212.783750</td>\n",
              "      <td>4.298593e+06</td>\n",
              "    </tr>\n",
              "    <tr>\n",
              "      <th>2017-07-30</th>\n",
              "      <td>203.496190</td>\n",
              "      <td>205.110357</td>\n",
              "      <td>201.714048</td>\n",
              "      <td>203.309524</td>\n",
              "      <td>1.581729e+06</td>\n",
              "    </tr>\n",
              "    <tr>\n",
              "      <th>...</th>\n",
              "      <td>...</td>\n",
              "      <td>...</td>\n",
              "      <td>...</td>\n",
              "      <td>...</td>\n",
              "      <td>...</td>\n",
              "    </tr>\n",
              "    <tr>\n",
              "      <th>2020-02-16</th>\n",
              "      <td>255.021667</td>\n",
              "      <td>257.255238</td>\n",
              "      <td>252.679762</td>\n",
              "      <td>255.198452</td>\n",
              "      <td>2.329087e+06</td>\n",
              "    </tr>\n",
              "    <tr>\n",
              "      <th>2020-02-23</th>\n",
              "      <td>265.220833</td>\n",
              "      <td>267.263690</td>\n",
              "      <td>262.948512</td>\n",
              "      <td>265.321905</td>\n",
              "      <td>1.826094e+06</td>\n",
              "    </tr>\n",
              "    <tr>\n",
              "      <th>2020-03-01</th>\n",
              "      <td>236.720536</td>\n",
              "      <td>238.697500</td>\n",
              "      <td>234.208750</td>\n",
              "      <td>236.373988</td>\n",
              "      <td>2.198762e+06</td>\n",
              "    </tr>\n",
              "    <tr>\n",
              "      <th>2020-03-08</th>\n",
              "      <td>229.923571</td>\n",
              "      <td>231.284583</td>\n",
              "      <td>228.373810</td>\n",
              "      <td>229.817619</td>\n",
              "      <td>1.628910e+06</td>\n",
              "    </tr>\n",
              "    <tr>\n",
              "      <th>2020-03-15</th>\n",
              "      <td>176.937521</td>\n",
              "      <td>179.979487</td>\n",
              "      <td>172.936239</td>\n",
              "      <td>176.332821</td>\n",
              "      <td>4.259828e+06</td>\n",
              "    </tr>\n",
              "  </tbody>\n",
              "</table>\n",
              "<p>142 rows × 5 columns</p>\n",
              "</div>"
            ],
            "text/plain": [
              "                  Open        High         Low       Close        Volume\n",
              "Date                                                                    \n",
              "2017-07-02  268.066486  271.124595  264.819730  268.202162  2.185035e+06\n",
              "2017-07-09  261.337024  262.872917  259.186190  261.062083  1.337349e+06\n",
              "2017-07-16  196.193214  199.204405  192.722321  195.698393  2.986756e+06\n",
              "2017-07-23  212.351429  215.779286  209.126310  212.783750  4.298593e+06\n",
              "2017-07-30  203.496190  205.110357  201.714048  203.309524  1.581729e+06\n",
              "...                ...         ...         ...         ...           ...\n",
              "2020-02-16  255.021667  257.255238  252.679762  255.198452  2.329087e+06\n",
              "2020-02-23  265.220833  267.263690  262.948512  265.321905  1.826094e+06\n",
              "2020-03-01  236.720536  238.697500  234.208750  236.373988  2.198762e+06\n",
              "2020-03-08  229.923571  231.284583  228.373810  229.817619  1.628910e+06\n",
              "2020-03-15  176.937521  179.979487  172.936239  176.332821  4.259828e+06\n",
              "\n",
              "[142 rows x 5 columns]"
            ]
          },
          "metadata": {
            "tags": []
          },
          "execution_count": 24
        }
      ]
    },
    {
      "cell_type": "code",
      "metadata": {
        "id": "VEB5fOhuQ80s",
        "outputId": "31318b15-7c0e-4f10-e244-0308708c4603",
        "colab": {
          "base_uri": "https://localhost:8080/",
          "height": 431
        }
      },
      "source": [
        "# aggregate each column with a different operation. \n",
        "df.resample('W').agg({'Close': 'mean', 'High': 'max', 'Low': 'min', 'Volume': 'sum'})\n"
      ],
      "execution_count": 25,
      "outputs": [
        {
          "output_type": "execute_result",
          "data": {
            "text/html": [
              "<div>\n",
              "<style scoped>\n",
              "    .dataframe tbody tr th:only-of-type {\n",
              "        vertical-align: middle;\n",
              "    }\n",
              "\n",
              "    .dataframe tbody tr th {\n",
              "        vertical-align: top;\n",
              "    }\n",
              "\n",
              "    .dataframe thead th {\n",
              "        text-align: right;\n",
              "    }\n",
              "</style>\n",
              "<table border=\"1\" class=\"dataframe\">\n",
              "  <thead>\n",
              "    <tr style=\"text-align: right;\">\n",
              "      <th></th>\n",
              "      <th>Close</th>\n",
              "      <th>High</th>\n",
              "      <th>Low</th>\n",
              "      <th>Volume</th>\n",
              "    </tr>\n",
              "    <tr>\n",
              "      <th>Date</th>\n",
              "      <th></th>\n",
              "      <th></th>\n",
              "      <th></th>\n",
              "      <th></th>\n",
              "    </tr>\n",
              "  </thead>\n",
              "  <tbody>\n",
              "    <tr>\n",
              "      <th>2017-07-02</th>\n",
              "      <td>268.202162</td>\n",
              "      <td>293.73</td>\n",
              "      <td>253.23</td>\n",
              "      <td>8.084631e+07</td>\n",
              "    </tr>\n",
              "    <tr>\n",
              "      <th>2017-07-09</th>\n",
              "      <td>261.062083</td>\n",
              "      <td>285.00</td>\n",
              "      <td>231.25</td>\n",
              "      <td>2.246746e+08</td>\n",
              "    </tr>\n",
              "    <tr>\n",
              "      <th>2017-07-16</th>\n",
              "      <td>195.698393</td>\n",
              "      <td>240.33</td>\n",
              "      <td>130.26</td>\n",
              "      <td>5.017750e+08</td>\n",
              "    </tr>\n",
              "    <tr>\n",
              "      <th>2017-07-23</th>\n",
              "      <td>212.783750</td>\n",
              "      <td>249.40</td>\n",
              "      <td>153.25</td>\n",
              "      <td>7.221637e+08</td>\n",
              "    </tr>\n",
              "    <tr>\n",
              "      <th>2017-07-30</th>\n",
              "      <td>203.309524</td>\n",
              "      <td>229.99</td>\n",
              "      <td>178.03</td>\n",
              "      <td>2.657305e+08</td>\n",
              "    </tr>\n",
              "    <tr>\n",
              "      <th>...</th>\n",
              "      <td>...</td>\n",
              "      <td>...</td>\n",
              "      <td>...</td>\n",
              "      <td>...</td>\n",
              "    </tr>\n",
              "    <tr>\n",
              "      <th>2020-02-16</th>\n",
              "      <td>255.198452</td>\n",
              "      <td>290.00</td>\n",
              "      <td>216.31</td>\n",
              "      <td>3.912867e+08</td>\n",
              "    </tr>\n",
              "    <tr>\n",
              "      <th>2020-02-23</th>\n",
              "      <td>265.321905</td>\n",
              "      <td>287.13</td>\n",
              "      <td>242.36</td>\n",
              "      <td>3.067838e+08</td>\n",
              "    </tr>\n",
              "    <tr>\n",
              "      <th>2020-03-01</th>\n",
              "      <td>236.373988</td>\n",
              "      <td>278.13</td>\n",
              "      <td>209.26</td>\n",
              "      <td>3.693920e+08</td>\n",
              "    </tr>\n",
              "    <tr>\n",
              "      <th>2020-03-08</th>\n",
              "      <td>229.817619</td>\n",
              "      <td>253.01</td>\n",
              "      <td>196.00</td>\n",
              "      <td>2.736569e+08</td>\n",
              "    </tr>\n",
              "    <tr>\n",
              "      <th>2020-03-15</th>\n",
              "      <td>176.332821</td>\n",
              "      <td>208.65</td>\n",
              "      <td>90.00</td>\n",
              "      <td>4.983998e+08</td>\n",
              "    </tr>\n",
              "  </tbody>\n",
              "</table>\n",
              "<p>142 rows × 4 columns</p>\n",
              "</div>"
            ],
            "text/plain": [
              "                 Close    High     Low        Volume\n",
              "Date                                                \n",
              "2017-07-02  268.202162  293.73  253.23  8.084631e+07\n",
              "2017-07-09  261.062083  285.00  231.25  2.246746e+08\n",
              "2017-07-16  195.698393  240.33  130.26  5.017750e+08\n",
              "2017-07-23  212.783750  249.40  153.25  7.221637e+08\n",
              "2017-07-30  203.309524  229.99  178.03  2.657305e+08\n",
              "...                ...     ...     ...           ...\n",
              "2020-02-16  255.198452  290.00  216.31  3.912867e+08\n",
              "2020-02-23  265.321905  287.13  242.36  3.067838e+08\n",
              "2020-03-01  236.373988  278.13  209.26  3.693920e+08\n",
              "2020-03-08  229.817619  253.01  196.00  2.736569e+08\n",
              "2020-03-15  176.332821  208.65   90.00  4.983998e+08\n",
              "\n",
              "[142 rows x 4 columns]"
            ]
          },
          "metadata": {
            "tags": []
          },
          "execution_count": 25
        }
      ]
    },
    {
      "cell_type": "code",
      "metadata": {
        "id": "G053h_w6RmPh"
      },
      "source": [
        ""
      ],
      "execution_count": null,
      "outputs": []
    }
  ]
}